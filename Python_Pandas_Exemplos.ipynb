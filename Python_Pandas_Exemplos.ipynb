{
 "cells": [
  {
   "cell_type": "markdown",
   "metadata": {
    "id": "g6-RlUSV7GCM"
   },
   "source": [
    "# Python - Pandas Com Exemplos\n",
    "[Documentação  oficial](https://pandas.pydata.org/docs/) "
   ]
  },
  {
   "cell_type": "markdown",
   "metadata": {
    "id": "oIgooFwBtIqO"
   },
   "source": [
    "### Importando o  pacote Pandas"
   ]
  },
  {
   "cell_type": "code",
   "execution_count": null,
   "metadata": {
    "id": "c6Bsq9RJ7LDa"
   },
   "outputs": [],
   "source": [
    "# Importando o Pandas\n",
    "import pandas as pd"
   ]
  },
  {
   "cell_type": "markdown",
   "metadata": {
    "id": "xEY8k8pItTAe"
   },
   "source": [
    "### Carregando e verificando dados do arquivo"
   ]
  },
  {
   "cell_type": "code",
   "execution_count": null,
   "metadata": {
    "id": "Niry3WhD_WxI"
   },
   "outputs": [],
   "source": [
    "# Carregando os dados que estão em um arquivo csv\n",
    "animes = pd.read_csv('animes.csv')"
   ]
  },
  {
   "cell_type": "code",
   "execution_count": null,
   "metadata": {
    "colab": {
     "base_uri": "https://localhost:8080/",
     "height": 1000
    },
    "id": "wtAXufN6Cavc",
    "outputId": "d7d4df21-bc73-4eda-8d74-d74b64d6132d"
   },
   "outputs": [],
   "source": [
    "# Verificando os dados\n",
    "animes"
   ]
  },
  {
   "cell_type": "code",
   "execution_count": null,
   "metadata": {
    "colab": {
     "base_uri": "https://localhost:8080/",
     "height": 344
    },
    "id": "HmBmhtGm--my",
    "outputId": "f31da6ba-cb59-4577-8b07-090873b3001e"
   },
   "outputs": [],
   "source": [
    "# Verificando os dados iniciais\n",
    "animes.head(3)"
   ]
  },
  {
   "cell_type": "code",
   "execution_count": null,
   "metadata": {
    "colab": {
     "base_uri": "https://localhost:8080/",
     "height": 413
    },
    "id": "mw4FKZnf_LSw",
    "outputId": "d4637261-c420-4116-8464-ad04bab9605f"
   },
   "outputs": [],
   "source": [
    "# Verificando os dados finais\n",
    "animes.tail(3)"
   ]
  },
  {
   "cell_type": "code",
   "execution_count": null,
   "metadata": {
    "colab": {
     "base_uri": "https://localhost:8080/"
    },
    "id": "HZN5uHUp9g6c",
    "outputId": "c2c949ae-8a6d-47ba-99f7-5cb8fc904c50"
   },
   "outputs": [],
   "source": [
    "# Informações sobre os dados\n",
    "animes.info()"
   ]
  },
  {
   "cell_type": "code",
   "execution_count": null,
   "metadata": {
    "colab": {
     "base_uri": "https://localhost:8080/",
     "height": 300
    },
    "id": "r-z2O0fo92qm",
    "outputId": "47b4792c-6a51-44f4-80fb-077a3a54f649"
   },
   "outputs": [],
   "source": [
    "# Estatísticas sobre os dados\n",
    "animes.describe()"
   ]
  },
  {
   "cell_type": "code",
   "execution_count": null,
   "metadata": {
    "colab": {
     "base_uri": "https://localhost:8080/"
    },
    "id": "4ppfFDUm-D72",
    "outputId": "a9ab71a8-2b24-4bef-dd5e-c3052d69fc67"
   },
   "outputs": [],
   "source": [
    "# Nome das colunas\n",
    "animes.columns"
   ]
  },
  {
   "cell_type": "code",
   "execution_count": null,
   "metadata": {
    "colab": {
     "base_uri": "https://localhost:8080/"
    },
    "id": "sl3aTRAVAOOL",
    "outputId": "9deb5cbc-7f5d-4fb2-9964-9c78eef77cdc"
   },
   "outputs": [],
   "source": [
    "# Mostrando os dados de uma coluna\n",
    "animes['title']"
   ]
  },
  {
   "cell_type": "code",
   "execution_count": null,
   "metadata": {
    "colab": {
     "base_uri": "https://localhost:8080/"
    },
    "id": "oliNShZPArcS",
    "outputId": "428e131b-7824-400b-fd7d-e5b8f8485ff2"
   },
   "outputs": [],
   "source": [
    "# Mostrando os dados de uma coluna em um intervalo\n",
    "animes['title'][0:5]"
   ]
  },
  {
   "cell_type": "code",
   "execution_count": null,
   "metadata": {
    "colab": {
     "base_uri": "https://localhost:8080/"
    },
    "id": "ntujF87YBlD5",
    "outputId": "7d4c7155-c663-41b5-c3d1-bd7b538f52a1"
   },
   "outputs": [],
   "source": [
    "# Mostrando os dados de uma coluna como um atributo\n",
    "animes.title"
   ]
  },
  {
   "cell_type": "code",
   "execution_count": null,
   "metadata": {
    "colab": {
     "base_uri": "https://localhost:8080/",
     "height": 424
    },
    "id": "grvthsw_B3BK",
    "outputId": "1d336d1d-ad0b-490f-bfc8-90632f12f200"
   },
   "outputs": [],
   "source": [
    "# Mostrando os dados de mais de uma coluna\n",
    "animes[['title', 'ranked', 'score']]"
   ]
  },
  {
   "cell_type": "code",
   "execution_count": null,
   "metadata": {
    "colab": {
     "base_uri": "https://localhost:8080/"
    },
    "id": "Kayiz3-JCLTB",
    "outputId": "19f58ab1-b486-42ec-feab-1e73c53022b3"
   },
   "outputs": [],
   "source": [
    "# Acessando um registro (linha)\n",
    "animes.iloc[1]"
   ]
  },
  {
   "cell_type": "code",
   "execution_count": null,
   "metadata": {
    "colab": {
     "base_uri": "https://localhost:8080/",
     "height": 361
    },
    "id": "6A8ffNS9DNkd",
    "outputId": "6bd5dc67-c265-46ad-bd91-d2a2524059e0"
   },
   "outputs": [],
   "source": [
    "# Acessando múltiplos registros (linhas)\n",
    "animes.iloc[1:4]"
   ]
  },
  {
   "cell_type": "code",
   "execution_count": null,
   "metadata": {
    "colab": {
     "base_uri": "https://localhost:8080/",
     "height": 35
    },
    "id": "34DqVJgeDo9o",
    "outputId": "08d65392-5041-4b70-949e-094a02dc62f7"
   },
   "outputs": [],
   "source": [
    "# Acessando uma posição específica (Linha, Coluna)\n",
    "animes.iloc[3,1]"
   ]
  },
  {
   "cell_type": "code",
   "execution_count": null,
   "metadata": {
    "colab": {
     "base_uri": "https://localhost:8080/"
    },
    "id": "mpBjMmvOEuNE",
    "outputId": "3ea9ad94-c089-4f56-9384-c16e38f451ea"
   },
   "outputs": [],
   "source": [
    "# Loop para acessar o índice e linha\n",
    "for indice, linha in animes.iterrows():\n",
    "  print(indice, linha)"
   ]
  },
  {
   "cell_type": "code",
   "execution_count": null,
   "metadata": {
    "colab": {
     "base_uri": "https://localhost:8080/"
    },
    "id": "43OTZsbMFWo6",
    "outputId": "090e85dd-6e9d-49d5-e2bf-64ef86bed5e6"
   },
   "outputs": [],
   "source": [
    "# Loop para acessar o índice e uma coluna na linha\n",
    "for indice, linha in animes.iterrows():\n",
    "  print(indice, linha['title'])"
   ]
  },
  {
   "cell_type": "markdown",
   "metadata": {
    "id": "DmLSaKdwtrf6"
   },
   "source": [
    "### Pesquisando dados"
   ]
  },
  {
   "cell_type": "code",
   "execution_count": null,
   "metadata": {
    "colab": {
     "base_uri": "https://localhost:8080/",
     "height": 1000
    },
    "id": "XQhXuN9_Fx3K",
    "outputId": "4d9d552d-abda-4b8e-ce73-b2e7e24f9814"
   },
   "outputs": [],
   "source": [
    "# Pesquisando com condicional\n",
    "animes.loc[animes['episodes'] > 1000]"
   ]
  },
  {
   "cell_type": "code",
   "execution_count": null,
   "metadata": {
    "colab": {
     "base_uri": "https://localhost:8080/",
     "height": 226
    },
    "id": "_UQY9ZXVGlVF",
    "outputId": "d493cb9a-83aa-47f2-defa-719a08c8d766"
   },
   "outputs": [],
   "source": [
    "# Pesquisando com um texto específico\n",
    "animes.loc[animes['title'] == 'One Piece']"
   ]
  },
  {
   "cell_type": "markdown",
   "metadata": {
    "id": "K8nTegKWt0AM"
   },
   "source": [
    "### Ordenações"
   ]
  },
  {
   "cell_type": "code",
   "execution_count": null,
   "metadata": {
    "colab": {
     "base_uri": "https://localhost:8080/",
     "height": 936
    },
    "id": "Ruvn8VB3HS5m",
    "outputId": "f5b2bcce-de76-4b32-9fe4-212e1bc8aefd"
   },
   "outputs": [],
   "source": [
    "# Ordenação\n",
    "animes.sort_values('ranked')"
   ]
  },
  {
   "cell_type": "code",
   "execution_count": null,
   "metadata": {
    "colab": {
     "base_uri": "https://localhost:8080/",
     "height": 971
    },
    "id": "Ocr0lIkLIqrd",
    "outputId": "d8585444-4816-4db6-94de-42cd89b6994b"
   },
   "outputs": [],
   "source": [
    "# Ordenação decrescente\n",
    "animes.sort_values('ranked', ascending=False)"
   ]
  },
  {
   "cell_type": "code",
   "execution_count": null,
   "metadata": {
    "colab": {
     "base_uri": "https://localhost:8080/",
     "height": 563
    },
    "id": "4LmhNFmgI4z7",
    "outputId": "093b3fbd-2219-4fde-aa39-8d42b47516fe"
   },
   "outputs": [],
   "source": [
    "# Ordenação decrescente - Top 5\n",
    "animes.sort_values('ranked', ascending=False).head(5)"
   ]
  },
  {
   "cell_type": "code",
   "execution_count": null,
   "metadata": {
    "colab": {
     "base_uri": "https://localhost:8080/",
     "height": 1000
    },
    "id": "YwJ00xCnJF_I",
    "outputId": "e0b41b08-80b7-44c4-9ad6-f624359fea5f"
   },
   "outputs": [],
   "source": [
    "# Ordenação de duas colunas\n",
    "animes.sort_values(['episodes','ranked'])"
   ]
  },
  {
   "cell_type": "code",
   "execution_count": null,
   "metadata": {
    "colab": {
     "base_uri": "https://localhost:8080/",
     "height": 954
    },
    "id": "ryu14eIoJgnO",
    "outputId": "a58f0700-545c-4b75-cb7e-8bdd027a1872"
   },
   "outputs": [],
   "source": [
    "# Ordenação de duas colunas - descrescente\n",
    "animes.sort_values(['episodes','ranked'], ascending=False)"
   ]
  },
  {
   "cell_type": "code",
   "execution_count": null,
   "metadata": {
    "colab": {
     "base_uri": "https://localhost:8080/",
     "height": 988
    },
    "id": "1mGYQM8LJ10w",
    "outputId": "80bdc87c-d526-4cc6-8fbc-2b0fea92b88a"
   },
   "outputs": [],
   "source": [
    "# Ordenação alternada de duas colunas - crescente e descrescente\n",
    "animes.sort_values(['episodes','ranked'], ascending=[True, False])"
   ]
  },
  {
   "cell_type": "markdown",
   "metadata": {
    "id": "l4SjgMmvt7zM"
   },
   "source": [
    "### Operações iniciais com colunas"
   ]
  },
  {
   "cell_type": "code",
   "execution_count": null,
   "metadata": {
    "colab": {
     "base_uri": "https://localhost:8080/",
     "height": 687
    },
    "id": "KAg6OLmVKHyG",
    "outputId": "46421733-54d9-4cc1-8de2-492ae7434d78"
   },
   "outputs": [],
   "source": [
    "# Criar uma nova coluna baseada em dados de outras - Método 1\n",
    "animes['sucess'] = animes['popularity'] / animes['members']\n",
    "animes.head(5)"
   ]
  },
  {
   "cell_type": "code",
   "execution_count": null,
   "metadata": {
    "colab": {
     "base_uri": "https://localhost:8080/",
     "height": 545
    },
    "id": "BBVxd1arMQ_L",
    "outputId": "0151b363-4311-4f6f-b09e-468bedf47731"
   },
   "outputs": [],
   "source": [
    "# Removendo uma coluna\n",
    "animes.drop(columns='sucess', inplace=True)\n",
    "animes.head(5)"
   ]
  },
  {
   "cell_type": "code",
   "execution_count": null,
   "metadata": {
    "colab": {
     "base_uri": "https://localhost:8080/",
     "height": 378
    },
    "id": "c2XntTTUNsph",
    "outputId": "53bff483-bd48-4781-9c5f-5871e5800c53"
   },
   "outputs": [],
   "source": [
    "# Criar uma mova coluna baseada em dados de outras - Método 2\n",
    "# Soma do ranked com score\n",
    "animes['total'] = animes.iloc[:,8:10].sum(axis=1)\n",
    "animes.head(3)"
   ]
  },
  {
   "cell_type": "markdown",
   "metadata": {
    "id": "E1RTdg0Zm-Xy"
   },
   "source": [
    "### Trocando a ordem das colunas"
   ]
  },
  {
   "cell_type": "code",
   "execution_count": null,
   "metadata": {
    "colab": {
     "base_uri": "https://localhost:8080/"
    },
    "id": "8wTHH799ltGf",
    "outputId": "aabac1eb-39a4-4031-a276-265ef7784b9c"
   },
   "outputs": [],
   "source": [
    "# Criando uma lista com os nomes das colunas\n",
    "colunas = list(animes.columns)\n",
    "colunas"
   ]
  },
  {
   "cell_type": "code",
   "execution_count": null,
   "metadata": {
    "colab": {
     "base_uri": "https://localhost:8080/",
     "height": 378
    },
    "id": "ObhOvxwinCeU",
    "outputId": "fb98970e-659c-44ab-aae2-d84e6ecaf4c4"
   },
   "outputs": [],
   "source": [
    "# Colocar a coluna total após a coluna title\n",
    "animes = animes[colunas[0:2] + [colunas[-1]] + colunas[2:-1]]\n",
    "animes.head(3)"
   ]
  },
  {
   "cell_type": "markdown",
   "metadata": {
    "id": "pha71Qskp2yo"
   },
   "source": [
    "### Salvando o dataframe para um arquivo csv"
   ]
  },
  {
   "cell_type": "code",
   "execution_count": null,
   "metadata": {
    "id": "Q-78g_04o6tO"
   },
   "outputs": [],
   "source": [
    "# Utilizando o recurso de salvamento do Pandas\n",
    "animes.to_csv('modificado.csv', index=False)"
   ]
  },
  {
   "cell_type": "code",
   "execution_count": null,
   "metadata": {
    "colab": {
     "base_uri": "https://localhost:8080/",
     "height": 378
    },
    "id": "mKOcu6cSqoHR",
    "outputId": "d0d71d46-d108-458a-b7bc-a6994e26f99f"
   },
   "outputs": [],
   "source": [
    "# Lendo o arquivo salvo\n",
    "modificado = pd.read_csv('modificado.csv')\n",
    "modificado.head(3)"
   ]
  },
  {
   "cell_type": "markdown",
   "metadata": {
    "id": "MgtT5r3X8cjs"
   },
   "source": [
    "### Filtrando os dados"
   ]
  },
  {
   "cell_type": "code",
   "execution_count": null,
   "metadata": {
    "colab": {
     "base_uri": "https://localhost:8080/",
     "height": 260
    },
    "id": "j7vIi6YDq2hJ",
    "outputId": "890df8c0-85b3-4a23-8858-0a8d9bdc174f"
   },
   "outputs": [],
   "source": [
    "# Pesquisando com um texto específico uma coluna\n",
    "animes.loc[animes['title'] == 'One Piece']"
   ]
  },
  {
   "cell_type": "code",
   "execution_count": null,
   "metadata": {
    "colab": {
     "base_uri": "https://localhost:8080/",
     "height": 260
    },
    "id": "eow2d7114oj6",
    "outputId": "a705d84f-7859-4736-c12c-9d6c8577c56e"
   },
   "outputs": [],
   "source": [
    "# Pesquisando em duas colunas\n",
    "animes.loc[(animes['popularity'] == 800) & (animes['episodes'] == 12.0)]"
   ]
  },
  {
   "cell_type": "code",
   "execution_count": null,
   "metadata": {
    "colab": {
     "base_uri": "https://localhost:8080/",
     "height": 1000
    },
    "id": "1ukoC4MO7kjs",
    "outputId": "cdb9097e-3b7f-4399-a160-8c67a60cbf52"
   },
   "outputs": [],
   "source": [
    "# Pesquisando em três colunas\n",
    "animes.loc[((animes['popularity'] == 800) | (animes['episodes'] == 12.0)) & (animes['ranked'] >= 15)]"
   ]
  },
  {
   "cell_type": "code",
   "execution_count": null,
   "metadata": {
    "colab": {
     "base_uri": "https://localhost:8080/",
     "height": 1000
    },
    "id": "HZ8N_YTw9Uoi",
    "outputId": "9b3a3700-5f16-462e-f680-de402586fd9b"
   },
   "outputs": [],
   "source": [
    "# Pesquisando por um trecho do texto\n",
    "animes.loc[animes['title'].str.contains('full', case=False)]"
   ]
  },
  {
   "cell_type": "code",
   "execution_count": null,
   "metadata": {
    "colab": {
     "base_uri": "https://localhost:8080/",
     "height": 1000
    },
    "id": "zoOUNFQ29rf0",
    "outputId": "657634c3-2cd3-4996-e656-1fceb6d9ed97"
   },
   "outputs": [],
   "source": [
    "# Pesquisando por um trecho do texto negado\n",
    "animes.loc[~animes['title'].str.contains('full', case=False)]"
   ]
  },
  {
   "cell_type": "code",
   "execution_count": null,
   "metadata": {
    "colab": {
     "base_uri": "https://localhost:8080/",
     "height": 1000
    },
    "id": "axPGfTlt-NLT",
    "outputId": "928d59ad-c4d8-4a2c-af49-358d6d6ea8c4"
   },
   "outputs": [],
   "source": [
    "# Pesquisando com expressões regulares 1\n",
    "import re\n",
    "\n",
    "animes.loc[animes['title'].str.contains('sword|king', regex=True, flags=re.I)]"
   ]
  },
  {
   "cell_type": "code",
   "execution_count": null,
   "metadata": {
    "colab": {
     "base_uri": "https://localhost:8080/",
     "height": 1000
    },
    "id": "UgmmxgL3_IO-",
    "outputId": "3e9931ad-1c7a-4bca-94dc-a02ca4a5a170"
   },
   "outputs": [],
   "source": [
    "# Pesquisando com expressões regulares 2\n",
    "import re\n",
    "\n",
    "animes.loc[animes['title'].str.contains('^ha[i|t]', regex=True, flags=re.I)]"
   ]
  },
  {
   "cell_type": "code",
   "execution_count": null,
   "metadata": {
    "colab": {
     "base_uri": "https://localhost:8080/",
     "height": 1000
    },
    "id": "H-2w7S1j-E0X",
    "outputId": "3ad5f384-7361-4eec-eecd-5b11eb80a458"
   },
   "outputs": [],
   "source": [
    "# Salvar o filtro em outro dataframe\n",
    "animes_comedias = animes.loc[animes['genre'].str.contains('comedy', case=False)]\n",
    "animes_comedias"
   ]
  },
  {
   "cell_type": "code",
   "execution_count": null,
   "metadata": {
    "colab": {
     "base_uri": "https://localhost:8080/",
     "height": 1000
    },
    "id": "hitkkEXY8oAg",
    "outputId": "b15449ab-c80f-4d63-a8f3-e8215df56a4c"
   },
   "outputs": [],
   "source": [
    "# Reiniciando os índices\n",
    "animes_comedias.reset_index(drop=True, inplace=True)\n",
    "animes_comedias"
   ]
  },
  {
   "cell_type": "markdown",
   "metadata": {
    "id": "1775t2C0C93_"
   },
   "source": [
    "### Alterando valor baseado em uma condição"
   ]
  },
  {
   "cell_type": "code",
   "execution_count": null,
   "metadata": {
    "colab": {
     "base_uri": "https://localhost:8080/",
     "height": 545
    },
    "id": "WrwloA1rJqbT",
    "outputId": "a45f9727-0639-42b5-f324-cc7423e5a015"
   },
   "outputs": [],
   "source": [
    "#  Colocando o primeiro  genero como principal e descartando os demais\n",
    "animes['genre'] = animes['genre'].str.extract(\"'(.*?)'\", expand=True)\n",
    "animes.head()"
   ]
  },
  {
   "cell_type": "code",
   "execution_count": null,
   "metadata": {
    "id": "aHTdygPyOvKx"
   },
   "outputs": [],
   "source": [
    "# Salvando esse dataframe para ter a alteração do gênero\n",
    "animes.to_csv('animes_genero.csv', index=False)"
   ]
  },
  {
   "cell_type": "code",
   "execution_count": null,
   "metadata": {
    "colab": {
     "base_uri": "https://localhost:8080/",
     "height": 455
    },
    "id": "GGJeIxDqmsGr",
    "outputId": "a288c6fe-cd9d-4675-d2a2-98feffb4df10"
   },
   "outputs": [],
   "source": [
    "# Contando os totais\n",
    "animes.groupby('total').count()"
   ]
  },
  {
   "cell_type": "code",
   "execution_count": null,
   "metadata": {
    "id": "cU9pp_BG9GoO"
   },
   "outputs": [],
   "source": [
    "# Alterando todos os totais com valor 0.00 para 0.01\n",
    "animes.loc[animes['total'] == 0.00, 'total'] = 0.01"
   ]
  },
  {
   "cell_type": "code",
   "execution_count": null,
   "metadata": {
    "colab": {
     "base_uri": "https://localhost:8080/",
     "height": 455
    },
    "id": "Y4cjhxXiDIhc",
    "outputId": "91ae44ba-5f72-4383-f407-7687eff814f2"
   },
   "outputs": [],
   "source": [
    "# Verificando a contagem dos totais\n",
    "animes.groupby('total').count()"
   ]
  },
  {
   "cell_type": "code",
   "execution_count": null,
   "metadata": {
    "id": "yZ5NW_wTnH9o"
   },
   "outputs": [],
   "source": [
    "# Desfazendo a alteração\n",
    "animes.loc[animes['total'] == 0.01, 'total'] = 0.00"
   ]
  },
  {
   "cell_type": "code",
   "execution_count": null,
   "metadata": {
    "colab": {
     "base_uri": "https://localhost:8080/",
     "height": 455
    },
    "id": "RJhp1Y_knb94",
    "outputId": "c49ae0ac-2d58-446e-8f17-8fa9af026ab8"
   },
   "outputs": [],
   "source": [
    "# Verificando se a contagem dos totais retornou aos valores iniciais\n",
    "animes.groupby('total').count()"
   ]
  },
  {
   "cell_type": "code",
   "execution_count": null,
   "metadata": {
    "id": "gu4dKjGxnjcY"
   },
   "outputs": [],
   "source": [
    "# Alterando uma coluna baseada no valor de outra\n",
    "# Alterando a coluna ranked baseada no total\n",
    "# Se o total é igual a zero , o ranked será -1\n",
    "animes.loc[animes['total'] == 0.00, 'ranked'] = -1"
   ]
  },
  {
   "cell_type": "code",
   "execution_count": null,
   "metadata": {
    "colab": {
     "base_uri": "https://localhost:8080/",
     "height": 455
    },
    "id": "-OEca5rEoQgi",
    "outputId": "d4a78494-6185-451f-cb55-15c16db1595e"
   },
   "outputs": [],
   "source": [
    "# Verificando a contagem do ranked e total\n",
    "animes.groupby(['ranked','total']).count()"
   ]
  },
  {
   "cell_type": "code",
   "execution_count": null,
   "metadata": {
    "id": "-or_VCfKpurb"
   },
   "outputs": [],
   "source": [
    "# Alterando duas colunas baseada no valor de outra coluna\n",
    "# Alterando as colunas popularity e score baseada no total\n",
    "# Se o total é igual a zero , popularity e score serão -1\n",
    "animes.loc[animes['total'] == 0.00, ['popularity', 'score']] = -1"
   ]
  },
  {
   "cell_type": "code",
   "execution_count": null,
   "metadata": {
    "colab": {
     "base_uri": "https://localhost:8080/",
     "height": 455
    },
    "id": "4A9XGcELqq3Y",
    "outputId": "5349e087-c307-4ece-95b0-92abf22700e3"
   },
   "outputs": [],
   "source": [
    "# Verificando a contagem do popularity e score\n",
    "animes.groupby(['total','popularity', 'score']).count()"
   ]
  },
  {
   "cell_type": "code",
   "execution_count": null,
   "metadata": {
    "id": "iMzP6lf4q5mN"
   },
   "outputs": [],
   "source": [
    "# Alterando duas colunas baseada no valor de outra coluna com  valores diferentes\n",
    "# Alterando as colunas popularity e score baseada no total\n",
    "# Se o total é igual a zero , popularity  será 1 e score será 0\n",
    "animes.loc[animes['total'] == 0.00, ['popularity', 'score']] = [1, 0]"
   ]
  },
  {
   "cell_type": "code",
   "execution_count": null,
   "metadata": {
    "colab": {
     "base_uri": "https://localhost:8080/",
     "height": 455
    },
    "id": "d9R-ectTrQB0",
    "outputId": "183d1fba-3a3f-4880-9708-f97b9829ba3e"
   },
   "outputs": [],
   "source": [
    "# Verificando a contagem do popularity e score\n",
    "animes.groupby(['total','popularity', 'score']).count()"
   ]
  },
  {
   "cell_type": "markdown",
   "metadata": {
    "id": "9Vb4QxNNrrjN"
   },
   "source": [
    "### Utilizando o GroupBy"
   ]
  },
  {
   "cell_type": "code",
   "execution_count": null,
   "metadata": {
    "colab": {
     "base_uri": "https://localhost:8080/",
     "height": 344
    },
    "id": "HIKkoaN6ohbT",
    "outputId": "d6070044-8cae-4a90-e297-f18f8bae95dc"
   },
   "outputs": [],
   "source": [
    "# Retornando ao dataframe com um genero que foi salvo\n",
    "animes = pd.read_csv('animes_genero.csv')\n",
    "animes.head(3)"
   ]
  },
  {
   "cell_type": "code",
   "execution_count": null,
   "metadata": {
    "colab": {
     "base_uri": "https://localhost:8080/",
     "height": 1000
    },
    "id": "SrAtbYHppK7B",
    "outputId": "e2ae46f5-3dd6-4674-bc4b-6d2f0c7a8cf6"
   },
   "outputs": [],
   "source": [
    "# Groupby com média\n",
    "animes.groupby('genre').mean().sort_values('score', ascending=False)"
   ]
  },
  {
   "cell_type": "code",
   "execution_count": null,
   "metadata": {
    "colab": {
     "base_uri": "https://localhost:8080/",
     "height": 1000
    },
    "id": "iI49bVF6sR9g",
    "outputId": "c8cdc387-4090-430b-b2f6-6053888d3bf8"
   },
   "outputs": [],
   "source": [
    "# Groupby com soma\n",
    "animes.groupby('genre').sum().sort_values('score', ascending=False)"
   ]
  },
  {
   "cell_type": "code",
   "execution_count": null,
   "metadata": {
    "colab": {
     "base_uri": "https://localhost:8080/",
     "height": 1000
    },
    "id": "9LW-EbHeUVSf",
    "outputId": "0f547bcc-b9e4-4a5b-e184-d79eae6a7a8b"
   },
   "outputs": [],
   "source": [
    "# Groupby com contagem\n",
    "animes.groupby('genre').count().sort_values('title', ascending=False)"
   ]
  },
  {
   "cell_type": "code",
   "execution_count": null,
   "metadata": {
    "colab": {
     "base_uri": "https://localhost:8080/",
     "height": 413
    },
    "id": "uaQEZQ79uWMl",
    "outputId": "14c1054f-3451-406a-97e1-8787cecc8dbd"
   },
   "outputs": [],
   "source": [
    "# Groupby com contagem simplificada\n",
    "# Criando uma coluna com valor fixo 1\n",
    "animes['count'] = 1\n",
    "animes.head(3)"
   ]
  },
  {
   "cell_type": "code",
   "execution_count": null,
   "metadata": {
    "colab": {
     "base_uri": "https://localhost:8080/"
    },
    "id": "yHhZcNSWVUWX",
    "outputId": "9e005ff8-d6f4-4673-cb6b-e050c4b8c987"
   },
   "outputs": [],
   "source": [
    "# Faço o count usando a coluna criada\n",
    "animes.groupby('genre').count()['count'].sort_values(ascending=False)"
   ]
  },
  {
   "cell_type": "code",
   "execution_count": null,
   "metadata": {
    "colab": {
     "base_uri": "https://localhost:8080/"
    },
    "id": "Di0Jek9tVnox",
    "outputId": "6b72f3f2-f6e2-4852-badf-26df80525904"
   },
   "outputs": [],
   "source": [
    "# Groupby com contagem de duas colunas\n",
    "animes.groupby(['genre','episodes']).count()['count']"
   ]
  },
  {
   "cell_type": "markdown",
   "metadata": {
    "id": "edbozRn4XWYC"
   },
   "source": [
    "### Trabalhando com uma grande quantidade de dados"
   ]
  },
  {
   "cell_type": "code",
   "execution_count": null,
   "metadata": {
    "colab": {
     "base_uri": "https://localhost:8080/"
    },
    "id": "cx6jmx9FWjrI",
    "outputId": "da943209-f47f-409b-9ee7-40f61d614751"
   },
   "outputs": [],
   "source": [
    "# Dividir em pedaços (chunks) --> número de linhas na memória \n",
    "# O nosso dataframe tem 19311 linhas\n",
    "# Utilizando o laço for para demonstração\n",
    "for df in pd.read_csv('animes_genero.csv', chunksize=5000):\n",
    "  print('Pedaço do  Dataframe')\n",
    "  print(df)"
   ]
  },
  {
   "cell_type": "code",
   "execution_count": null,
   "metadata": {
    "id": "n6GcOXUpisXL"
   },
   "outputs": [],
   "source": [
    "# Uso do chunk para criar um dataframe menor 1\n",
    "# Criar um dataframe filtrando o genero ação dos animes\n",
    "\n",
    "# criar uma lista vazia\n",
    "animes_acao = []\n",
    "\n",
    "# Utilizar o loop para adicionar a lista somente os animes do gênero ação --> Action\n",
    "for df in pd.read_csv('animes_genero.csv', chunksize=5000):\n",
    "  df_acao = df.loc[df['genre'] == 'Action']\n",
    "  animes_acao.append(df_acao)"
   ]
  },
  {
   "cell_type": "code",
   "execution_count": null,
   "metadata": {
    "colab": {
     "base_uri": "https://localhost:8080/"
    },
    "id": "zLud63DiY_sD",
    "outputId": "b9f3c488-18ac-4048-cdaf-57b2eb96443f"
   },
   "outputs": [],
   "source": [
    "# Verificando o tipo\n",
    "type(df_acao)"
   ]
  },
  {
   "cell_type": "code",
   "execution_count": null,
   "metadata": {
    "colab": {
     "base_uri": "https://localhost:8080/",
     "height": 580
    },
    "id": "gwGq9i1QkJmr",
    "outputId": "aeac3994-35c7-4765-f81e-ebd9bbf5a598"
   },
   "outputs": [],
   "source": [
    "# Listando as  linhas iniciais\n",
    "df_acao.head()"
   ]
  },
  {
   "cell_type": "code",
   "execution_count": null,
   "metadata": {
    "colab": {
     "base_uri": "https://localhost:8080/"
    },
    "id": "N1KLRE3GkhpD",
    "outputId": "cce52b7c-82d1-401b-dc66-68497fca9905"
   },
   "outputs": [],
   "source": [
    "# Uso de memória - animes\n",
    "animes.info()"
   ]
  },
  {
   "cell_type": "code",
   "execution_count": null,
   "metadata": {
    "colab": {
     "base_uri": "https://localhost:8080/"
    },
    "id": "b3x8q1koksGl",
    "outputId": "543d6b75-0ae4-46d5-ae84-85f424e329d7"
   },
   "outputs": [],
   "source": [
    "# Uso de memória -  df_acao\n",
    "df_acao.info()"
   ]
  },
  {
   "cell_type": "code",
   "execution_count": null,
   "metadata": {
    "id": "NVmI8acbk2cg"
   },
   "outputs": [],
   "source": [
    "# Uso do chunk para criar um dataframe menor 2\n",
    "# Criar um dataframe contando os generos dos animes\n",
    "\n",
    "# criar uma lista vazia\n",
    "animes_genero = []\n",
    "\n",
    "# Utilizar o loop para adicionar a lista a contagem dos gêneros em cada chunk\n",
    "for df in pd.read_csv('animes_genero.csv', chunksize=5000):\n",
    "  df_generos = df['genre'].value_counts()\n",
    "  animes_genero.append(df_generos)\n",
    "\n",
    "animes_genero = pd.concat(animes_genero, ignore_index=False)"
   ]
  },
  {
   "cell_type": "code",
   "execution_count": null,
   "metadata": {
    "colab": {
     "base_uri": "https://localhost:8080/"
    },
    "id": "pvF7a089oBQB",
    "outputId": "faf4c7e9-4e82-4b1d-d082-c23bffe6be13"
   },
   "outputs": [],
   "source": [
    "# Verificando o tipo\n",
    "type(animes_genero)"
   ]
  },
  {
   "cell_type": "code",
   "execution_count": null,
   "metadata": {
    "colab": {
     "base_uri": "https://localhost:8080/"
    },
    "id": "wOwoyHU1oSqq",
    "outputId": "205e1f94-9e3e-4b12-ffe2-a599c055dc64"
   },
   "outputs": [],
   "source": [
    "# Contagem por gênero\n",
    "animes_genero.groupby(level=0).sum()"
   ]
  },
  {
   "cell_type": "markdown",
   "metadata": {
    "id": "gtjaCqnKuL_O"
   },
   "source": [
    "# FIM"
   ]
  }
 ],
 "metadata": {
  "colab": {
   "name": "Python-Pandas-Exemplos.ipynb",
   "provenance": []
  },
  "kernelspec": {
   "display_name": "Python 3",
   "language": "python",
   "name": "python3"
  },
  "language_info": {
   "codemirror_mode": {
    "name": "ipython",
    "version": 3
   },
   "file_extension": ".py",
   "mimetype": "text/x-python",
   "name": "python",
   "nbconvert_exporter": "python",
   "pygments_lexer": "ipython3",
   "version": "3.8.8"
  }
 },
 "nbformat": 4,
 "nbformat_minor": 1
}
